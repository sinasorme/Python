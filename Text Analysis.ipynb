{
 "cells": [
  {
   "cell_type": "markdown",
   "id": "740a5fdd-6ca9-4156-95bc-cedffd98af2f",
   "metadata": {},
   "source": [
    "<center>\n",
    "    \n",
    "# **Scenario: Text Analysis**\n",
    "\n",
    "</center>"
   ]
  },
  {
   "cell_type": "markdown",
   "id": "e601f5f6-4dc0-4c43-a164-8d972138bf71",
   "metadata": {},
   "source": [
    "### We have a large dataset of customer reviews in the form of strings, and we want to extract useful information from them using:\n",
    "\n",
    "**1. String in lower case:**\n",
    "We want to Pre-process the customer feedback by converting all the text to lowercase. This step helps standardize the text. Lower casing the text allows us to focus on the content rather than the specific letter casing.\n",
    "\n",
    "**2. Frequency of all words in a given string:**\n",
    "After converting the text to lowercase, we want to determine the frequency of each word in the customer feedback. This information will help us identify which words are used more frequently, indicating the key aspects or topics that customers are mentioning in their reviews. By analyzing the word frequencies, we can gain insights into the most common issues raised by customers.\n",
    "\n",
    "**3. Frequency of a specific word:**\n",
    "In addition to analyzing the overall word frequencies, we want to specifically track the frequency of a particular word that is relevant to our analysis. \n"
   ]
  },
  {
   "cell_type": "markdown",
   "id": "51e64cd5-eafe-46f7-a6c3-c88dd0328398",
   "metadata": {},
   "source": [
    "<center>\n",
    "    \n",
    "# Part-A\n"
   ]
  },
  {
   "cell_type": "markdown",
   "id": "67b8f820-a989-4cd7-8365-937f7fe3987f",
   "metadata": {},
   "source": [
    "<center>\n",
    "    \n",
    "**Note:- In Part-A, you won't be getting any output as we are just storing the string and creating a class.**\n",
    "    </center>\n",
    "    "
   ]
  },
  {
   "cell_type": "markdown",
   "id": "6863eed1-fbcc-4128-aa51-920195584034",
   "metadata": {},
   "source": [
    "## Step-1 Define a string. \n",
    "\"Lorem ipsum dolor! diam amet, consetetur Lorem magna. sed diam nonumy eirmod tempor. diam et labore? et diam magna. et diam amet.\" <br>\n"
   ]
  },
  {
   "cell_type": "code",
   "execution_count": 1,
   "id": "2fb08495-d8c5-4d69-8e23-8b245e2d5c94",
   "metadata": {},
   "outputs": [],
   "source": [
    "#storing the string\n",
    "givenstring=\"Lorem ipsum dolor! diam amet, consetetur Lorem magna. sed diam nonumy eirmod tempor. diam et labore? et diam magna. et diam amet.\""
   ]
  },
  {
   "cell_type": "markdown",
   "id": "3ebe533d-faba-4f60-b48b-cc576ddecf27",
   "metadata": {},
   "source": [
    "### For achieving the steps mentioned in the scenario, We need to create a class with 3 different methods."
   ]
  },
  {
   "cell_type": "markdown",
   "id": "316749f4-9fe5-4bcf-bec2-71e9e42f9dfc",
   "metadata": {},
   "source": [
    "## Step-2 Define the class and its attributes:"
   ]
  },
  {
   "cell_type": "markdown",
   "id": "dd4df2ba-f997-47d9-a070-b1cfa32b0f86",
   "metadata": {},
   "source": [
    "1. Create a class named TextAnalyzer.\n",
    "2. Define the constructor `__init__` method that takes a text argument."
   ]
  },
  {
   "cell_type": "code",
   "execution_count": 6,
   "id": "a4870183-28df-4c5f-86c6-ffe8a571c667",
   "metadata": {},
   "outputs": [],
   "source": [
    "# Let's create a class called TextAnalyzer to analyze text.\n",
    "class TextAnalyzer(object):\n",
    "    # The __init__ method initializes the class with a 'text' parameter.\n",
    "    # We will store the provided 'text' as an instance variable.\n",
    "    def __init__(self, text):\n",
    "        self.text = text            #in next step we will change this line"
   ]
  },
  {
   "cell_type": "markdown",
   "id": "9666a422-bbae-4f6d-87f2-548f2231ca0e",
   "metadata": {},
   "source": [
    "## Step-3 Implement a code to Format the text in Lowercase:"
   ]
  },
  {
   "cell_type": "markdown",
   "id": "0ab09383-2d47-4dca-9bb9-f966edcb90f0",
   "metadata": {},
   "source": [
    "1. Inside the constructor, we will convert the text argument to lowercase using the `lower()` method.\n",
    "2. Then, will Remove punctuation marks (periods, exclamation marks, commas, and question marks) from the text using the `replace()` method.\n",
    "3. At last, we will Assign the formatted text to a new attribute called fmtText.\n",
    "\n",
    "**Here we will be Updating the above `TextAnalyzer` class with points mentioned above.**"
   ]
  },
  {
   "cell_type": "code",
   "execution_count": 7,
   "id": "ff81a4af-77f4-4167-b711-a0a04a5ad900",
   "metadata": {},
   "outputs": [],
   "source": [
    "class TextAnalzer(object):\n",
    "    \n",
    "    def __init__ (self, text):\n",
    "        # remove punctuation\n",
    "        formattedText = text.replace('.','').replace('!','').replace('?','').replace(',','')\n",
    "        \n",
    "        # make text lowercase\n",
    "        formattedText = formattedText.lower()\n",
    "        \n",
    "        self.fmtText = formattedText"
   ]
  },
  {
   "cell_type": "markdown",
   "id": "45bc797e-ae17-4fa4-b423-57763f00c851",
   "metadata": {},
   "source": [
    "## Step-4 Implement a code to count the Frequency of all unique words:"
   ]
  },
  {
   "cell_type": "markdown",
   "id": "0d98b98a-4c62-402b-ac15-1238e7359baf",
   "metadata": {},
   "source": [
    "* In this step, we will Implement the `freqAll()` method with the below parameters:\n",
    "     1. Split the fmtText attribute into individual words using the `split()` method.\n",
    "     2. Create an empty dictionary to store the word frequency.\n",
    "     3. Iterate over the list of words and update the frequency dictionary accordingly.\n",
    "     4. Use `count` method for counting the occurrence\n",
    "     5. Return the frequency dictionary.\n",
    "     \n",
    "**Update the above `TextAnalyzer` class with points mentioned above.**"
   ]
  },
  {
   "cell_type": "code",
   "execution_count": 8,
   "id": "165cbfb7-eafa-4589-987c-341e7869a973",
   "metadata": {},
   "outputs": [],
   "source": [
    "class TextAnalyzer(object):\n",
    "    \n",
    "    def __init__ (self, text):\n",
    "        # remove punctuation\n",
    "        formattedText = text.replace('.','').replace('!','').replace('?','').replace(',','')\n",
    "        \n",
    "        # make text lowercase\n",
    "        formattedText = formattedText.lower()\n",
    "        \n",
    "        self.fmtText = formattedText\n",
    "        \n",
    "    def freqAll(self):        \n",
    "        # split text into words\n",
    "        wordList = self.fmtText.split(' ')\n",
    "        \n",
    "        # Create dictionary\n",
    "        freqMap = {}\n",
    "        for word in set(wordList): # use set to remove duplicates in list\n",
    "            freqMap[word] = wordList.count(word)\n",
    "        \n",
    "        return freqMap"
   ]
  },
  {
   "cell_type": "markdown",
   "id": "cdbe0e3c-ebe1-4bdb-a27e-2ab149ec6e2a",
   "metadata": {},
   "source": [
    "## Step-5 Implement a code to count the Frequency of a specific word:"
   ]
  },
  {
   "cell_type": "markdown",
   "id": "b4a2c5b2-17d8-4fd6-a3a5-528533875b98",
   "metadata": {},
   "source": [
    "*In step-5, we have to Implement the `freqOf(word)` method that takes a word argument:\n",
    "   1. Create method and pass the word that need to be found\n",
    "   2. Get the `freqAll` method for look for count and check if that word is in the list.\n",
    "   3. Return the count.\n",
    "   \n",
    "**Update the above `TextAnalyzer` class with points mentioned above.**"
   ]
  },
  {
   "cell_type": "code",
   "execution_count": 9,
   "id": "b364b255-6fef-4bb7-856a-db34ae6337e4",
   "metadata": {},
   "outputs": [],
   "source": [
    "class TextAnalyzer(object):\n",
    "    \n",
    "    def __init__ (self, text):\n",
    "        # remove punctuation\n",
    "        formattedText = text.replace('.','').replace('!','').replace('?','').replace(',','')\n",
    "        \n",
    "        # make text lowercase\n",
    "        formattedText = formattedText.lower()\n",
    "        \n",
    "        self.fmtText = formattedText\n",
    "        \n",
    "    def freqAll(self):        \n",
    "        # split text into words\n",
    "        wordList = self.fmtText.split(' ')\n",
    "        \n",
    "        # Create dictionary\n",
    "        freqMap = {}\n",
    "        for word in set(wordList): # use set to remove duplicates in list\n",
    "            freqMap[word] = wordList.count(word)\n",
    "        \n",
    "        return freqMap\n",
    "    \n",
    "    def freqOf(self,word):\n",
    "        # get frequency map\n",
    "        freqDict = self.freqAll()\n",
    "        \n",
    "        if word in freqDict:\n",
    "            return freqDict[word]\n",
    "        else:\n",
    "            return 0"
   ]
  },
  {
   "cell_type": "markdown",
   "id": "12b1a783-8906-4a08-80dc-8c19c93615ac",
   "metadata": {},
   "source": [
    "### Now, We have successfully created a class with 3 methods"
   ]
  },
  {
   "cell_type": "markdown",
   "id": "ca165bdd-d87c-44cb-a31a-68ba80b6f197",
   "metadata": {},
   "source": [
    "<center>\n",
    "    \n",
    "# Part-B \n",
    "  "
   ]
  },
  {
   "cell_type": "markdown",
   "id": "0f98df4d-4452-4968-b68e-fcca1854fc26",
   "metadata": {},
   "source": [
    "<center>\n",
    "    \n",
    "**In Part B, we will be calling the functions created in Part A, allowing the functions to execute and generate output.**\n",
    "    </center>"
   ]
  },
  {
   "cell_type": "markdown",
   "id": "3c39d926-f3d6-441f-8eb6-7da3358e7228",
   "metadata": {},
   "source": [
    "## Step-1 Create an instance of TextAnalyzer Class.\n",
    "* Instantiate the TextAnalyzer class by passing the given string as an argument."
   ]
  },
  {
   "cell_type": "code",
   "execution_count": 11,
   "id": "2a7ac21c-18fc-4980-8d0c-5eb250288e74",
   "metadata": {},
   "outputs": [],
   "source": [
    "analyzed = TextAnalyzer(givenstring)"
   ]
  },
  {
   "cell_type": "markdown",
   "id": "169709aa-14bf-40d0-8a13-38bcfe719b66",
   "metadata": {},
   "source": [
    "## Step-2  Call the function that converts the data into lowercase"
   ]
  },
  {
   "cell_type": "code",
   "execution_count": 12,
   "id": "11bcfee8-b4bb-4650-a561-98f2e15571bf",
   "metadata": {},
   "outputs": [
    {
     "name": "stdout",
     "output_type": "stream",
     "text": [
      "Formatted Text: lorem ipsum dolor diam amet consetetur lorem magna sed diam nonumy eirmod tempor diam et labore et diam magna et diam amet\n"
     ]
    }
   ],
   "source": [
    "print(\"Formatted Text:\", analyzed.fmtText)"
   ]
  },
  {
   "cell_type": "markdown",
   "id": "2291a181-d7d9-4a0e-903a-331fb254cb3b",
   "metadata": {},
   "source": [
    "We have successfully converted string into lowercase."
   ]
  },
  {
   "cell_type": "markdown",
   "id": "e77aa5a8-6fa2-4d82-a9c0-55fb6408b70f",
   "metadata": {},
   "source": [
    "## Step-3 Call the function that counts the frequency of all unique words from the data."
   ]
  },
  {
   "cell_type": "code",
   "execution_count": 13,
   "id": "3af70ef1-c544-446b-a831-565f9ca90627",
   "metadata": {},
   "outputs": [
    {
     "name": "stdout",
     "output_type": "stream",
     "text": [
      "{'amet': 2, 'dolor': 1, 'diam': 5, 'et': 3, 'sed': 1, 'labore': 1, 'eirmod': 1, 'nonumy': 1, 'tempor': 1, 'lorem': 2, 'ipsum': 1, 'magna': 2, 'consetetur': 1}\n"
     ]
    }
   ],
   "source": [
    "freqMap = analyzed.freqAll()\n",
    "print(freqMap)"
   ]
  },
  {
   "cell_type": "markdown",
   "id": "1462e9db-a854-4692-846c-fa7c68045ccf",
   "metadata": {},
   "source": [
    "We have successfully calculated the frequency of all unique words in the string."
   ]
  },
  {
   "cell_type": "markdown",
   "id": "6db953ef-47ad-4fca-9613-54c95ea5a583",
   "metadata": {},
   "source": [
    "## Step-4 Call the function that counts the frequency of specific word.\n",
    "Here, we will call the function that counts the frequency of the word \"lorem\"\n",
    "<br>\n"
   ]
  },
  {
   "cell_type": "code",
   "execution_count": 14,
   "id": "826332b7-2ac1-47a0-bc1b-ee9f3070aff4",
   "metadata": {},
   "outputs": [
    {
     "name": "stdout",
     "output_type": "stream",
     "text": [
      "The word lorem appears 2 times.\n"
     ]
    }
   ],
   "source": [
    "word = \"lorem\"\n",
    "frequency = analyzed.freqOf(word)\n",
    "print(\"The word\",word,\"appears\",frequency,\"times.\")"
   ]
  },
  {
   "cell_type": "markdown",
   "id": "5be16f13-fe3f-4191-8584-b24badeba1f7",
   "metadata": {},
   "source": [
    "We have successfully calculated the frequency of all specified words."
   ]
  }
 ],
 "metadata": {
  "kernelspec": {
   "display_name": "Python 3 (ipykernel)",
   "language": "python",
   "name": "python3"
  },
  "language_info": {
   "codemirror_mode": {
    "name": "ipython",
    "version": 3
   },
   "file_extension": ".py",
   "mimetype": "text/x-python",
   "name": "python",
   "nbconvert_exporter": "python",
   "pygments_lexer": "ipython3",
   "version": "3.11.6"
  }
 },
 "nbformat": 4,
 "nbformat_minor": 5
}
