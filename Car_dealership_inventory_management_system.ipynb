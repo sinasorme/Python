{
 "cells": [
  {
   "cell_type": "markdown",
   "id": "54c256bd-77e1-4ef5-9297-42ea2d6e8428",
   "metadata": {},
   "source": [
    "# Scenario: Car dealership's inventory management system"
   ]
  },
  {
   "cell_type": "markdown",
   "id": "e95693f7-80c0-465a-b8c2-12a55fce6acd",
   "metadata": {},
   "source": [
    "##### We are working on a Python program to simulate a car dealership's inventory management system. The system aims to model cars and their attributes accurately."
   ]
  },
  {
   "cell_type": "markdown",
   "id": "ea84e570-d0b4-44cf-b939-c55afc443ffc",
   "metadata": {},
   "source": [
    "###  We want to create a Python program to represent vehicles using a class. Each car have attributes for maximum speed and mileage. \n"
   ]
  },
  {
   "cell_type": "code",
   "execution_count": 1,
   "id": "6aa7279d-df33-4ddb-b25c-7083419bd79c",
   "metadata": {},
   "outputs": [],
   "source": [
    "class Vehicle(object):\n",
    "    #constructor\n",
    "    def _init_(self, max_speed, mileage):\n",
    "        self.max_speed=max_speed;\n",
    "        self.mileage=mileage;"
   ]
  },
  {
   "cell_type": "markdown",
   "id": "78987283-46ba-44e6-b98a-6fb76cf5538f",
   "metadata": {},
   "source": [
    "### Now, we want to update the class with the default color for all vehicles,\" white\"."
   ]
  },
  {
   "cell_type": "code",
   "execution_count": 6,
   "id": "804eef4b-52d5-4c7e-a6dd-1c6a2f9a139e",
   "metadata": {},
   "outputs": [],
   "source": [
    "class Vehicle(object):\n",
    "    #constructor\n",
    "    color= 'white'\n",
    "    def _init_(self, max_speed, mileage):\n",
    "        self.max_speed=max_speed;\n",
    "        self.mileage=mileage;"
   ]
  },
  {
   "cell_type": "markdown",
   "id": "a12d9009-44ab-4c73-ade6-aa32b0a90abb",
   "metadata": {},
   "source": [
    "### In this step we want to create methods in the Vehicle class to assign seating capacity to a vehicle. "
   ]
  },
  {
   "cell_type": "code",
   "execution_count": 3,
   "id": "64a2d090-df94-4dce-af98-14bdd5960ac0",
   "metadata": {},
   "outputs": [],
   "source": [
    "class Vehicle(object):\n",
    "    #constructor\n",
    "    color= 'white'\n",
    "    def _init_(self, max_speed, mileage):\n",
    "        self.max_speed=max_speed;\n",
    "        self.mileage=mileage;\n",
    "        self.seating_capacity = None\n",
    "    #method\n",
    "    def assign_seating_capacity (self, seating_capacity):\n",
    "        self.seating_capacity= seating_capacity"
   ]
  },
  {
   "cell_type": "markdown",
   "id": "576ccff4-e832-4e79-a898-76932d752107",
   "metadata": {},
   "source": [
    "### Now, we want to Create a method to display all the properties of an object of the class. "
   ]
  },
  {
   "cell_type": "code",
   "execution_count": 7,
   "id": "7970fcae-797e-40bf-8954-3a108be69266",
   "metadata": {},
   "outputs": [],
   "source": [
    "class Vehicle(object):\n",
    "    color = \"white\"\n",
    "\n",
    "    def __init__(self, max_speed, mileage):\n",
    "        self.max_speed = max_speed\n",
    "        self.mileage = mileage\n",
    "        self.seating_capacity = None\n",
    "\n",
    "    def assign_seating_capacity(self, seating_capacity):\n",
    "        self.seating_capacity = seating_capacity\n",
    "\n",
    "    def display_properties(self):\n",
    "        print(\"Properties of the Vehicle:\")\n",
    "        print(\"Color:\", self.color)\n",
    "        print(\"Maximum Speed:\", self.max_speed)\n",
    "        print(\"Mileage:\", self.mileage)\n",
    "        print(\"Seating Capacity:\", self.seating_capacity)"
   ]
  },
  {
   "cell_type": "markdown",
   "id": "e5c0fffa-cfbe-4d4b-ad73-9bc1b6980e07",
   "metadata": {},
   "source": [
    "### In this step we want to create two objects of the Vehicle class object that has a max speed of 200kph and mileage of 50000kmpl with five seating capacities, and another car object has a max speed of 180kph and 75000kmpl with four seating capacities."
   ]
  },
  {
   "cell_type": "code",
   "execution_count": 5,
   "id": "39bbc887-bf24-403b-ac51-10b4c2991e2d",
   "metadata": {},
   "outputs": [
    {
     "name": "stdout",
     "output_type": "stream",
     "text": [
      "Properties of the Vehicle:\n",
      "Color: white\n",
      "Maximum Speed: 200\n",
      "Mileage: 50000\n",
      "Seating Capacity: 5\n",
      "Properties of the Vehicle:\n",
      "Color: white\n",
      "Maximum Speed: 180\n",
      "Mileage: 75000\n",
      "Seating Capacity: 4\n"
     ]
    }
   ],
   "source": [
    "class Vehicle(object):\n",
    "    color = \"white\"\n",
    "\n",
    "    def __init__(self, max_speed, mileage):\n",
    "        self.max_speed = max_speed\n",
    "        self.mileage = mileage\n",
    "        self.seating_capacity = None\n",
    "\n",
    "    def assign_seating_capacity(self, seating_capacity):\n",
    "        self.seating_capacity = seating_capacity\n",
    "\n",
    "    def display_properties(self):\n",
    "        print(\"Properties of the Vehicle:\")\n",
    "        print(\"Color:\", self.color)\n",
    "        print(\"Maximum Speed:\", self.max_speed)\n",
    "        print(\"Mileage:\", self.mileage)\n",
    "        print(\"Seating Capacity:\", self.seating_capacity)\n",
    "\n",
    "# Creating objects of the Vehicle class\n",
    "vehicle1 = Vehicle(200, 50000)\n",
    "vehicle1.assign_seating_capacity(5)\n",
    "vehicle1.display_properties()\n",
    "\n",
    "vehicle2 = Vehicle(180, 75000)\n",
    "vehicle2.assign_seating_capacity(4)\n",
    "vehicle2.display_properties()"
   ]
  },
  {
   "cell_type": "markdown",
   "id": "e2e73f7c-e990-474e-8021-0a553212f4e6",
   "metadata": {},
   "source": [
    "#### Finish"
   ]
  }
 ],
 "metadata": {
  "kernelspec": {
   "display_name": "Python 3 (ipykernel)",
   "language": "python",
   "name": "python3"
  },
  "language_info": {
   "codemirror_mode": {
    "name": "ipython",
    "version": 3
   },
   "file_extension": ".py",
   "mimetype": "text/x-python",
   "name": "python",
   "nbconvert_exporter": "python",
   "pygments_lexer": "ipython3",
   "version": "3.11.6"
  }
 },
 "nbformat": 4,
 "nbformat_minor": 5
}
